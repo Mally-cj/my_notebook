{
 "cells": [
  {
   "cell_type": "code",
   "execution_count": 3,
   "metadata": {},
   "outputs": [],
   "source": [
    "import cv2\n",
    "from IPython.display import display,Latex,Math\n",
    "%matplotlib inline\n",
    "import numpy as np\n",
    "from IPython.core.interactiveshell import InteractiveShell\n",
    "sh = InteractiveShell.instance()\n",
    "\n",
    "def number_to_str(n,cut=5):\n",
    "    ns=str(n)\n",
    "    format_='{0:.'+str(cut)+'f}'\n",
    "    if 'e' in ns or ('.' in ns and len(ns)>cut+1):\n",
    "        return format_.format(n)\n",
    "    else:\n",
    "        return str(n)\n",
    "\n",
    "def matrix_to_latex(mat,style='bmatrix'):\n",
    "    if type(mat)==np.matrixlib.defmatrix.matrix:\n",
    "        mat=mat.A\n",
    "    head=r'\\begin{'+style+'}'\n",
    "    tail=r'\\end{'+style+'}'\n",
    "    if len(mat.shape)==1:\n",
    "        body=r'\\\\'.join([str(el) for el in mat])\n",
    "        return head+body+tail\n",
    "    elif len(mat.shape)==2:\n",
    "        lines=[]\n",
    "        for row in mat:\n",
    "            lines.append('&'.join([number_to_str(el)  for el in row])+r'\\\\')\n",
    "        s=head+' '.join(lines)+tail\n",
    "        return s\n",
    "    return None\n",
    "\n",
    "sh.display_formatter.formatters['text/latex'].type_printers[np.ndarray]=matrix_to_latex\n",
    "def show_decomposition(*args):\n",
    "    latex=''\n",
    "    for arg in args:\n",
    "        if type(arg)==str:\n",
    "            latex+=arg\n",
    "        else:\n",
    "            latex+=matrix_to_latex(arg)\n",
    "    latex='$'+latex+'$'\n",
    "    display(Math(latex))"
   ]
  },
  {
   "cell_type": "code",
   "execution_count": 7,
   "metadata": {},
   "outputs": [],
   "source": [
    "def matrix_object_to_latex(col, *args):\n",
    "    latex='$ \\\\begin{matrix} '\n",
    "    i = 0\n",
    "    for arg in args:\n",
    "        i = i + 1\n",
    "        latex += \" & \"\n",
    "        if type(arg)==str:\n",
    "            latex+=arg\n",
    "        else:\n",
    "            latex+=matrix_to_latex(arg)\n",
    "        if i % col == 0:\n",
    "            latex += \" \\\\\\\\ \"\n",
    "    latex += \"\\end{matrix} $\"\n",
    "    print(latex)\n",
    "    display(Math(latex))\n",
    "    return latex"
   ]
  },
  {
   "cell_type": "code",
   "execution_count": 8,
   "metadata": {},
   "outputs": [
    {
     "name": "stdout",
     "output_type": "stream",
     "text": [
      "$ \\begin{matrix}  & A & * & B & = & C \\\\  & \\begin{bmatrix}0&1&2&3\\\\ 4&5&6&7\\\\ 8&9&10&11\\\\ 12&13&14&15\\\\\\end{bmatrix} & * & \\begin{bmatrix}0&1&2&3\\\\ 4&5&6&7\\\\ 8&9&10&11\\\\ 12&13&14&15\\\\\\end{bmatrix} & = & \\begin{bmatrix}56&62&68&74\\\\ 152&174&196&218\\\\ 248&286&324&362\\\\ 344&398&452&506\\\\\\end{bmatrix} \\\\ \\end{matrix} $\n"
     ]
    }
   ],
   "source": [
    "d = 4\n",
    "matrix_a = np.arange(d*d).reshape(d,d)\n",
    "matrix_b = np.arange(d*d).reshape(d,d)\n",
    "\n",
    "tex = matrix_object_to_latex(5, \"A\",\"*\",\"B\",\"=\",\"C\",matrix_a,\"*\",\n",
    "    matrix_b,\"=\",np.dot(matrix_a,matrix_b))"
   ]
  },
  {
   "cell_type": "code",
   "execution_count": null,
   "metadata": {},
   "outputs": [],
   "source": []
  }
 ],
 "metadata": {
  "kernelspec": {
   "display_name": "Python 3",
   "language": "python",
   "name": "python3"
  },
  "language_info": {
   "codemirror_mode": {
    "name": "ipython",
    "version": 3
   },
   "file_extension": ".py",
   "mimetype": "text/x-python",
   "name": "python",
   "nbconvert_exporter": "python",
   "pygments_lexer": "ipython3",
   "version": "3.7.4"
  }
 },
 "nbformat": 4,
 "nbformat_minor": 2
}
